{
 "cells": [
  {
   "cell_type": "code",
   "execution_count": 1,
   "id": "72ce6487",
   "metadata": {},
   "outputs": [],
   "source": [
    "import sys\n",
    "import numpy as np \n",
    "import pandas as pd\n",
    "import random\n",
    "import math \n",
    "import timeit\n",
    "import matplotlib.pyplot as plt"
   ]
  },
  {
   "cell_type": "code",
   "execution_count": 2,
   "id": "b257e313",
   "metadata": {},
   "outputs": [],
   "source": [
    "def file_input(file):\n",
    "    train_x = data_parse(\"train-\" + file)\n",
    "    train_y = reg_parse(\"trainR-\" + file)\n",
    "    train_y = np.matrix.transpose(train_y)\n",
    "    test_x = data_parse(\"test-\" + file)\n",
    "    test_y = reg_parse(\"testR-\" + file)\n",
    "    test_y = np.matrix.transpose(test_y)\n",
    "    return train_x, train_y, test_x, test_y\n",
    "\n",
    "def data_parse(file):\n",
    "    x1 = []\n",
    "    with open(file,'r') as f:\n",
    "        lines = [lines for lines in f.read().split(\"\\n\")][:-1]\n",
    "        for each_line in lines:\n",
    "            each_line = [float(value) for value in each_line.split(\",\")]\n",
    "            x1.append(each_line)\n",
    "    return np.asmatrix(x1)\n",
    "\n",
    "def reg_parse(file):\n",
    "    y1 = []\n",
    "    with open(file,'r') as f:\n",
    "        lines = [lines for lines in f.read().split(\"\\n\")][:-1]\n",
    "        for each_line in lines:\n",
    "            y1.append(float(each_line))    \n",
    "    return np.asmatrix(y1)"
   ]
  },
  {
   "cell_type": "code",
   "execution_count": 3,
   "id": "94ea8541",
   "metadata": {},
   "outputs": [],
   "source": [
    "def linearkernel(fi):\n",
    "    fi_t = np.transpose(fi)\n",
    "    linker = np.dot(fi,fi_t)\n",
    "    linker = linker + 1\n",
    "    return linker\n",
    "\n",
    "def linearkernel1(test_x, train_x):\n",
    "    initial = np.matmul(test_x, np.transpose(train_x))\n",
    "    kernel = initial + 1\n",
    "    return kernel\n",
    "\n",
    "def mse(test_x, test_y, mn):\n",
    "    sumation = 0\n",
    "    for i in range(len(test_y)):\n",
    "        sumation  += np.power((mn[i][0] - test_y[i]), 2)\n",
    "    mse = sumation/len(test_y) \n",
    "    return mse.tolist()[0][0]\n",
    "\n",
    "def rbfkernel(x1,x2,s):\n",
    "    exp = np.zeros((len(x1),len(x2)))\n",
    "    for o in range(len(x1)):\n",
    "        for p in range(len(x2)):\n",
    "            e = (np.linalg.norm((x1[o]-x2[p]),2)/np.power(s,2))\n",
    "            exp[o][p] = np.exp(-0.5*e)\n",
    "    return exp\n",
    "\n",
    "def covariance(fi, kernel, alpha, beta):\n",
    "    cov = (kernel/alpha) + (np.identity(fi.shape[0])/beta)\n",
    "    return cov \n",
    "\n",
    "def cov1(kernel, alpha, beta):\n",
    "    cov = (kernel/alpha) + (1/beta)\n",
    "    return cov \n",
    "\n",
    "def covariance1(alpha, kernel):\n",
    "    cov = kernel/alpha\n",
    "    return cov\n",
    "\n",
    "def v_t(test_x, train_x, alpha, beta, kernel):\n",
    "    v_t = []\n",
    "    for i in range(len(test_x)):\n",
    "        vt = covariance1(alpha, linearkernel1(test_x[i], train_x))\n",
    "        v_t.append(vt)\n",
    "    final_vt = np.squeeze(np.asarray(v_t))\n",
    "    return final_vt\n",
    "\n",
    "def mean(train_x, vt, train_y, alpha, beta):\n",
    "    cov = covariance(train_x, linearkernel(train_x), alpha, beta)\n",
    "    mean = np.matmul(np.matmul(vt, np.linalg.inv(cov)), train_y)\n",
    "    mean = mean.tolist()\n",
    "    return mean\n",
    "\n",
    "def v_i(train_x, test_x, vt, alpha, beta):   \n",
    "    c = []\n",
    "    cov = covariance(train_x, alpha , beta, linearkernel1(train_x, train_x))\n",
    "    for i in range(len(test_x)):\n",
    "        c_s = cov1(linearkernel1(test_x[i], test_x[i]), alpha, beta)\n",
    "        c.append(c_s)\n",
    "    c_train = covariance(train_x, linearkernel(train_x), alpha, beta)\n",
    "    c_inv = np.linalg.inv(c_train)\n",
    "    vi = np.asarray(c).reshape(-1,1) - np.dot(np.dot(vt, c_inv), np.transpose(vt))\n",
    "    vi = np.diag(vi)\n",
    "    return vi\n",
    "\n",
    "def mn_ll(test_y, mn, vi):\n",
    "    mnll = 0\n",
    "    n = len(test_y)\n",
    "    for i in range(n):\n",
    "        val = np.exp((-0.5*(test_y[i] - mn[i][0])**2)/vi[i])\n",
    "        mnll += -1*(np.log(val/np.sqrt((2*np.pi)*vi[i])))\n",
    "    return mnll/n"
   ]
  },
  {
   "cell_type": "code",
   "execution_count": 4,
   "id": "599043c0",
   "metadata": {},
   "outputs": [],
   "source": [
    "def model_selection(fi, t, test_x, test_y, kernel):\n",
    "    alpha = 1\n",
    "    s = 5\n",
    "    beta = 1\n",
    "    mnll = []\n",
    "    iteration = 0\n",
    "    prev_ev = -9999\n",
    "    n = 0.01\n",
    "    c = 1\n",
    "    der_cov_s = np.empty((len(fi),len(fi)))\n",
    "    res = []\n",
    "    I = np.identity(fi.shape[0])\n",
    "    if (kernel == \"linear\"):\n",
    "        kernel = linearkernel(fi)\n",
    "        # changes start\n",
    "    elif (kernel == \"rbf\"):\n",
    "        kernel = rbfkernel(fi,fi,s)\n",
    "        # change ends\n",
    "    for k in range(0,100):\n",
    "        #mse_p1 = mi - test_y\n",
    "        cn = covariance(fi, kernel, alpha, beta)\n",
    "        cn_inv = np.linalg.inv(cn)\n",
    "        # Calculating values for alpha\n",
    "        der_cov_alpha = (-1/(alpha)**2) * kernel\n",
    "        # Calculating values for beta\n",
    "        der_cov_beta = (-1/(beta)**2) * I\n",
    "        # Calculating for s                    # changes start\n",
    "        for i in range(len(fi)):\n",
    "            for j in range(len(fi)):\n",
    "                z = np.linalg.norm((fi[i]-fi[j]),2)/np.power(s,2)\n",
    "                v = np.exp(-0.5 * z)\n",
    "                der_cov_s[i][j] = np.dot(v, np.linalg.norm((fi[i]-fi[j]),2)) * (1/(s ** 3))\n",
    "        # Calculating log evidence wrt s      \n",
    "        log_ev_s = (-0.5 * (np.trace(np.dot(cn_inv, der_cov_s)))) + (0.5 * (np.dot((np.dot(np.transpose(train_y),cn_inv)),(np.dot(der_cov_s, np.dot(cn_inv, train_y))))))\n",
    "        s1 = np.log(s)\n",
    "        log_ev_s1 = (log_ev_s) * s\n",
    "        c1 = s1 + (n * log_ev_s1)\n",
    "        s = math.exp(c1)\n",
    "        # Calculating log evidence wrt alpha\n",
    "        log_ev_alpha = (-0.5 * (np.trace(np.dot(cn_inv, der_cov_alpha)))) + (0.5 * (np.dot((np.dot(np.transpose(train_y),cn_inv)),(np.dot(der_cov_alpha, np.dot(cn_inv, train_y))))))\n",
    "        # Calculating log evidence wrt beta\n",
    "        log_ev_beta = (-0.5 * (np.trace(np.dot(cn_inv, der_cov_beta)))) + (0.5 * (np.dot((np.dot(np.transpose(train_y),cn_inv)),(np.dot(der_cov_beta ,np.dot(cn_inv, train_y))))))\n",
    "        # Computing values for ln(alpha) and ln(beta)\n",
    "        a = np.log(alpha)\n",
    "        b = np.log(beta)\n",
    "        # Calculate values log evidence wrt to a \n",
    "        log_ev_a = (log_ev_alpha) * alpha\n",
    "        # Calculate values log evidence wrt to b\n",
    "        log_ev_b = (log_ev_beta) * beta\n",
    "        a1 = a + (n * log_ev_a)\n",
    "        b1 = b + (n * log_ev_b)\n",
    "        alpha = math.exp(a1)\n",
    "        beta = math.exp(b1)\n",
    "        new_ev = - ((len(fi))*np.log10(2*np.pi)/2) - (0.5 * np.log(np.linalg.det(cn))) - (0.5 * np.matmul(np.matmul(np.transpose(t), np.linalg.inv(cn)), t)) \n",
    "        c = (new_ev - prev_ev)/abs(prev_ev)\n",
    "        iteration = k\n",
    "        prev_ev = new_ev\n",
    "        vt = v_t(test_x, train_x, alpha, beta, linearkernel1(test_x, train_x))\n",
    "        mn = mean(train_x, vt, train_y, alpha, beta)\n",
    "        vi = v_i(train_x, test_x, vt, alpha, beta)\n",
    "        if k%10 == 0:\n",
    "            mnl_l = mn_ll(test_y, mn, vi).tolist()[0][0]\n",
    "            mnll.append(mnl_l)\n",
    "        if (c < 10 ** -5):\n",
    "            mnl_l = mn_ll(test_y, mn, vi).tolist()[0][0]\n",
    "            mnll.append(mnl_l)\n",
    "            break\n",
    "    res.append((alpha,beta,s,iteration,mnll))\n",
    "    return res[0]"
   ]
  },
  {
   "cell_type": "code",
   "execution_count": 5,
   "id": "2d5e2220",
   "metadata": {},
   "outputs": [],
   "source": [
    "train_x, train_y, test_x, test_y= file_input(\"1D.csv\")\n",
    "alpha, beta, s, iteration, mnll= model_selection(train_x, train_y, test_x, test_y,\"linear\")"
   ]
  },
  {
   "cell_type": "code",
   "execution_count": 6,
   "id": "1838a2e7",
   "metadata": {},
   "outputs": [],
   "source": [
    "vt = v_t(test_x, train_x, alpha, beta, linearkernel1(test_x, train_x))\n",
    "mn = mean(train_x, vt, train_y, alpha, beta)\n",
    "vi = v_i(train_x, test_x, vt, alpha, beta)\n",
    "mi = mse(test_x, test_y, mn)"
   ]
  },
  {
   "cell_type": "code",
   "execution_count": 7,
   "id": "51cd6d4b",
   "metadata": {},
   "outputs": [
    {
     "name": "stdout",
     "output_type": "stream",
     "text": [
      "Alpha: 2.3836990764543935\n",
      "Beta 1.926161713110879\n",
      "mse 0.41139416981758775\n"
     ]
    },
    {
     "data": {
      "image/png": "[encoded data removed]",
      "text/plain": [
       "<Figure size 432x288 with 1 Axes>"
      ]
     },
     "metadata": {
      "needs_background": "light"
     },
     "output_type": "display_data"
    }
   ],
   "source": [
    "print(\"Alpha:\",alpha)\n",
    "print(\"Beta\", beta)\n",
    "print(\"mse\",mi)\n",
    "x = range(len(mnll))\n",
    "plt.plot(x,mnll,label = \"MNLL values\")\n",
    "plt.xlabel('iterations')\n",
    "plt.ylabel('MNLL ')\n",
    "plt.legend()\n",
    "plt.grid(True)\n",
    "plt.legend(loc='upper right')\n",
    "plt.show()"
   ]
  },
  {
   "cell_type": "code",
   "execution_count": 13,
   "id": "b528d0a9",
   "metadata": {},
   "outputs": [
    {
     "name": "stderr",
     "output_type": "stream",
     "text": [
      "/Users/riyashetty/opt/anaconda3/lib/python3.8/site-packages/numpy/core/shape_base.py:65: VisibleDeprecationWarning: Creating an ndarray from ragged nested sequences (which is a list-or-tuple of lists-or-tuples-or ndarrays with different lengths or shapes) is deprecated. If you meant to do this, you must specify 'dtype=object' when creating the ndarray.\n",
      "  ary = asanyarray(ary)\n"
     ]
    },
    {
     "data": {
      "image/png": "[encoded data removed]",
      "text/plain": [
       "<Figure size 432x288 with 1 Axes>"
      ]
     },
     "metadata": {
      "needs_background": "light"
     },
     "output_type": "display_data"
    }
   ],
   "source": [
    "true = []\n",
    "for x in test_x:\n",
    "    if x > 1.5:\n",
    "        true.append(-1)\n",
    "    elif(x < -1.5):\n",
    "        true.append(1)\n",
    "    else:\n",
    "        true.append(np.sin(6*x))\n",
    "plt.plot(test_x, true, label=\"True Values\")\n",
    "plt.errorbar(test_x, mn, vi ,fmt='-o', label=\"Predictions\")\n",
    "plt.title('True and Predictions')\n",
    "plt.xlabel('i/p')\n",
    "plt.ylabel('o/p')\n",
    "plt.legend(loc=\"upper right\")\n",
    "plt.grid()\n",
    "plt.show()"
   ]
  },
  {
   "cell_type": "code",
   "execution_count": null,
   "id": "886e03df",
   "metadata": {},
   "outputs": [],
   "source": []
  },
  {
   "cell_type": "code",
   "execution_count": null,
   "id": "cd829c9c",
   "metadata": {},
   "outputs": [],
   "source": []
  },
  {
   "cell_type": "code",
   "execution_count": null,
   "id": "a4478101",
   "metadata": {},
   "outputs": [],
   "source": []
  }
 ],
 "metadata": {
  "kernelspec": {
   "display_name": "Python 3 (ipykernel)",
   "language": "python",
   "name": "python3"
  },
  "language_info": {
   "codemirror_mode": {
    "name": "ipython",
    "version": 3
   },
   "file_extension": ".py",
   "mimetype": "text/x-python",
   "name": "python",
   "nbconvert_exporter": "python",
   "pygments_lexer": "ipython3",
   "version": "3.8.5"
  }
 },
 "nbformat": 4,
 "nbformat_minor": 5
}
